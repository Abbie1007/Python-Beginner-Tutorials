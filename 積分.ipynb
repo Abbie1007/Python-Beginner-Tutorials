{
 "cells": [
  {
   "cell_type": "code",
   "execution_count": 1,
   "id": "1aa0fa72-c303-4d85-bff0-3fac5906fcac",
   "metadata": {},
   "outputs": [
    {
     "name": "stdin",
     "output_type": "stream",
     "text": [
      "please input dx= 4\n"
     ]
    },
    {
     "name": "stdout",
     "output_type": "stream",
     "text": [
      "area= 20.0\n"
     ]
    }
   ],
   "source": [
    "import numpy as np\n",
    "\n",
    "dx=float(input('please input dx='))\n",
    "area=0\n",
    "y=0\n",
    "for x in np.arange(2,5,dx):\n",
    "    y=(x**2)+1\n",
    "    area=area+(y*dx)\n",
    "print('area=', area)"
   ]
  },
  {
   "cell_type": "code",
   "execution_count": null,
   "id": "5f779bc2-aa74-424e-af7c-e578292430a7",
   "metadata": {},
   "outputs": [],
   "source": []
  }
 ],
 "metadata": {
  "kernelspec": {
   "display_name": "Python [conda env:base] *",
   "language": "python",
   "name": "conda-base-py"
  },
  "language_info": {
   "codemirror_mode": {
    "name": "ipython",
    "version": 3
   },
   "file_extension": ".py",
   "mimetype": "text/x-python",
   "name": "python",
   "nbconvert_exporter": "python",
   "pygments_lexer": "ipython3",
   "version": "3.12.7"
  }
 },
 "nbformat": 4,
 "nbformat_minor": 5
}
