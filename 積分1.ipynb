{
 "cells": [
  {
   "cell_type": "code",
   "execution_count": 1,
   "id": "5104bc9c-4fa2-406b-abdf-f6cda3cecd25",
   "metadata": {},
   "outputs": [
    {
     "data": {
      "text/latex": [
       "$\\displaystyle 1.0 x^{3} + 1.0 x$"
      ],
      "text/plain": [
       "1.0*x**3 + 1.0*x"
      ]
     },
     "execution_count": 1,
     "metadata": {},
     "output_type": "execute_result"
    }
   ],
   "source": [
    "import sympy as sp\n",
    "x=sp.Symbol('x')\n",
    "sp.integrate(3.0*x**2+1,x)"
   ]
  },
  {
   "cell_type": "code",
   "execution_count": 3,
   "id": "a5d44a11-3d83-4157-8698-05d05d58e67d",
   "metadata": {},
   "outputs": [
    {
     "name": "stdout",
     "output_type": "stream",
     "text": [
      "10.000000000000002\n"
     ]
    }
   ],
   "source": [
    "from scipy.integrate import quad\n",
    "def f(x):\n",
    "    return 3*x**2+1\n",
    "\n",
    "i=quad(f,0,2)\n",
    "print(i[0])"
   ]
  },
  {
   "cell_type": "code",
   "execution_count": 5,
   "id": "47d91077-63fd-4072-a10f-834e80e17c77",
   "metadata": {},
   "outputs": [
    {
     "data": {
      "text/latex": [
       "$\\displaystyle - 0.333333333333333 \\cos{\\left(3.0 x \\right)}$"
      ],
      "text/plain": [
       "-0.333333333333333*cos(3.0*x)"
      ]
     },
     "execution_count": 5,
     "metadata": {},
     "output_type": "execute_result"
    }
   ],
   "source": [
    "import sympy as sp\n",
    "x=sp.Symbol('x')\n",
    "sp.integrate(sp.sin(3.0*x),x)"
   ]
  },
  {
   "cell_type": "code",
   "execution_count": 9,
   "id": "66b67d5b-a4bb-4a50-b5a1-5d2c6d7cab46",
   "metadata": {},
   "outputs": [
    {
     "name": "stdout",
     "output_type": "stream",
     "text": [
      "0.29943976718048754\n"
     ]
    }
   ],
   "source": [
    "from scipy.integrate import quad\n",
    "import numpy as np\n",
    "\n",
    "def f(x):\n",
    "    return np.exp(-x)*np.sin(3*x)\n",
    "\n",
    "i=quad(f,0,2*np.pi)\n",
    "print(i[0])"
   ]
  }
 ],
 "metadata": {
  "kernelspec": {
   "display_name": "Python [conda env:base] *",
   "language": "python",
   "name": "conda-base-py"
  },
  "language_info": {
   "codemirror_mode": {
    "name": "ipython",
    "version": 3
   },
   "file_extension": ".py",
   "mimetype": "text/x-python",
   "name": "python",
   "nbconvert_exporter": "python",
   "pygments_lexer": "ipython3",
   "version": "3.12.7"
  }
 },
 "nbformat": 4,
 "nbformat_minor": 5
}
